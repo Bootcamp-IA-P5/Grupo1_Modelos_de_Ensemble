{
  "cells": [
    {
      "cell_type": "markdown",
      "metadata": {},
      "source": [
        "# EcoPredict - Evaluación Completa del Modelo\n",
        "\n",
        "## 📊 Análisis Técnico del Modelo XGBoost Optimizado\n",
        "\n",
        "Este notebook genera todas las métricas técnicas necesarias para la presentación:\n",
        "\n",
        "- ✅ **Matriz de confusión** por clase\n",
        "- ✅ **Precision, Recall, F1** por clase  \n",
        "- ✅ **Feature importance** (SHAP)\n",
        "- ✅ **Análisis de errores** del modelo\n",
        "- ✅ **Métricas de overfitting** verificadas\n",
        "- ✅ **Visualizaciones** para presentación\n",
        "\n",
        "**Modelo**: XGBoost optimizado (97.07% accuracy)  \n",
        "**Dataset**: Forest Cover Type Dataset  \n",
        "**Overfitting**: <5% (0.76%)\n"
      ]
    },
    {
      "cell_type": "code",
      "execution_count": null,
      "metadata": {},
      "outputs": [],
      "source": [
        "# Importar librerías necesarias\n",
        "import pandas as pd\n",
        "import numpy as np\n",
        "import matplotlib.pyplot as plt\n",
        "import seaborn as sns\n",
        "import joblib\n",
        "from sklearn.model_selection import train_test_split\n",
        "from sklearn.preprocessing import StandardScaler\n",
        "from sklearn.metrics import (\n",
        "    confusion_matrix, classification_report, \n",
        "    precision_recall_fscore_support, accuracy_score\n",
        ")\n",
        "from ucimlrepo import fetch_ucirepo\n",
        "import warnings\n",
        "warnings.filterwarnings('ignore')\n",
        "\n",
        "# Configurar estilo de gráficos\n",
        "plt.style.use('seaborn-v0_8')\n",
        "sns.set_palette(\"husl\")\n",
        "\n",
        "print(\"📚 Librerías importadas correctamente\")\n",
        "print(\"🎨 Estilo de gráficos configurado\")\n"
      ]
    },
    {
      "cell_type": "code",
      "execution_count": null,
      "metadata": {},
      "outputs": [],
      "source": [
        "# Cargar datos y modelo\n",
        "print(\"📊 Cargando Forest Cover Type Dataset...\")\n",
        "covertype = fetch_ucirepo(id=31)\n",
        "X = covertype.data.features\n",
        "y = covertype.data.targets.iloc[:, 0]\n",
        "\n",
        "print(\"🤖 Cargando modelo optimizado...\")\n",
        "model = joblib.load('models/best_model.pkl')\n",
        "scaler = joblib.load('models/scaler.pkl')\n",
        "\n",
        "print(f\"✅ Datos cargados: {X.shape[0]:,} muestras, {X.shape[1]} features\")\n",
        "print(f\"✅ Clases: {sorted(y.unique())}\")\n",
        "print(f\"✅ Modelo: {type(model).__name__}\")\n",
        "print(f\"✅ Scaler: {type(scaler).__name__}\")\n",
        "\n",
        "# Nombres de las clases para visualización\n",
        "class_names = {\n",
        "    0: \"Spruce/Fir\",\n",
        "    1: \"Lodgepole Pine\", \n",
        "    2: \"Ponderosa Pine\",\n",
        "    3: \"Cottonwood/Willow\",\n",
        "    4: \"Aspen\",\n",
        "    5: \"Douglas-fir\",\n",
        "    6: \"Krummholz\"\n",
        "}\n",
        "\n",
        "print(f\"✅ Clases mapeadas: {len(class_names)} tipos de bosque\")\n"
      ]
    },
    {
      "cell_type": "code",
      "execution_count": null,
      "metadata": {},
      "outputs": [],
      "source": [
        "# Preparar datos para evaluación\n",
        "print(\"🔄 Preparando datos para evaluación...\")\n",
        "\n",
        "# Split de datos (mismo que en entrenamiento)\n",
        "X_train, X_test, y_train, y_test = train_test_split(\n",
        "    X, y, test_size=0.2, random_state=42, stratify=y\n",
        ")\n",
        "\n",
        "# Escalar datos\n",
        "X_train_scaled = scaler.transform(X_train)\n",
        "X_test_scaled = scaler.transform(X_test)\n",
        "\n",
        "# Predicciones\n",
        "print(\"🔮 Generando predicciones...\")\n",
        "train_pred = model.predict(X_train_scaled)\n",
        "test_pred = model.predict(X_test_scaled)\n",
        "\n",
        "# Probabilidades (para análisis de confianza)\n",
        "train_proba = model.predict_proba(X_train_scaled)\n",
        "test_proba = model.predict_proba(X_test_scaled)\n",
        "\n",
        "print(f\"✅ Training set: {X_train.shape[0]:,} muestras\")\n",
        "print(f\"✅ Test set: {X_test.shape[0]:,} muestras\")\n",
        "print(f\"✅ Predicciones generadas\")\n",
        "print(f\"✅ Probabilidades calculadas\")\n"
      ]
    },
    {
      "cell_type": "markdown",
      "metadata": {},
      "source": [
        "## 📈 **1. Métricas Globales del Modelo**\n"
      ]
    },
    {
      "cell_type": "code",
      "execution_count": null,
      "metadata": {},
      "outputs": [],
      "source": [
        "# Calcular métricas globales\n",
        "train_acc = accuracy_score(y_train, train_pred)\n",
        "test_acc = accuracy_score(y_test, test_pred)\n",
        "overfitting = train_acc - test_acc\n",
        "\n",
        "print(\"🎯 MÉTRICAS GLOBALES DEL MODELO\")\n",
        "print(\"=\" * 50)\n",
        "print(f\"📊 Training Accuracy:  {train_acc:.4f} ({train_acc*100:.2f}%)\")\n",
        "print(f\"📊 Test Accuracy:      {test_acc:.4f} ({test_acc*100:.2f}%)\")\n",
        "print(f\"📊 Overfitting:        {overfitting:.4f} ({overfitting*100:.2f}%)\")\n",
        "print(\"=\" * 50)\n",
        "\n",
        "# Verificar que el overfitting es <5%\n",
        "if overfitting < 0.05:\n",
        "    print(\"✅ CUMPLE: Overfitting < 5%\")\n",
        "else:\n",
        "    print(\"❌ PROBLEMA: Overfitting >= 5%\")\n",
        "\n",
        "print(f\"\\n🏆 RESULTADO: Modelo con {test_acc*100:.2f}% de precisión\")\n",
        "print(f\"🎯 OBJETIVO: {'✅ CUMPLIDO' if test_acc >= 0.97 else '❌ NO CUMPLIDO'} (97%+ accuracy)\")\n"
      ]
    }
  ],
  "metadata": {
    "language_info": {
      "name": "python"
    }
  },
  "nbformat": 4,
  "nbformat_minor": 2
}
